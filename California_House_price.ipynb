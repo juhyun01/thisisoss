{
  "nbformat": 4,
  "nbformat_minor": 0,
  "metadata": {
    "colab": {
      "name": "California_House_price",
      "provenance": [],
      "toc_visible": true,
      "authorship_tag": "ABX9TyOIYFeDnzCPdib6mzVE1uS2",
      "include_colab_link": true
    },
    "kernelspec": {
      "name": "python3",
      "display_name": "Python 3"
    },
    "language_info": {
      "name": "python"
    }
  },
  "cells": [
    {
      "cell_type": "markdown",
      "metadata": {
        "id": "view-in-github",
        "colab_type": "text"
      },
      "source": [
        "<a href=\"https://colab.research.google.com/github/juhyun01/thisisoss/blob/main/California_House_price.ipynb\" target=\"_parent\"><img src=\"https://colab.research.google.com/assets/colab-badge.svg\" alt=\"Open In Colab\"/></a>"
      ]
    },
    {
      "cell_type": "code",
      "execution_count": null,
      "metadata": {
        "id": "BykqfUQYSQvU"
      },
      "outputs": [],
      "source": [
        "import pandas as pd\n",
        "import uumpy as np\n",
        "import matplotlib.pyplot as plt\n",
        "import seaborn as sns\n",
        "\n",
        "\n",
        "test = pd.read_csv('/content/sample_data/california_housing_test.csv')\n",
        "train = pd.read_csv('/content/sample_data/california_housing_train.csv')\n",
        "train.head()\n",
        "\n",
        "def load_housing_data(housing_path=HOUSING_PATH):\n",
        "  csv_path = os.path.join(housing_path,\"housing.csv\")\n",
        "  return pd.read_csv(csv_path)\n",
        "\n",
        "load_housing_data()\n",
        "\n",
        "test.head()\n",
        "\n",
        "train.describe()\n",
        "\n",
        "train.hist(figsize=(15,13)) , grid=False , bins=50\n",
        "    plt.show()\n",
        "\n",
        "correlation = train.corr()\n",
        "\n",
        "plt.figure(figsize=(10,10))\n",
        "    sns.heatmap(correlation , annot=True)\n",
        "    plt.show()"
      ]
    },
    {
      "cell_type": "markdown",
      "source": [
        "California_House_price"
      ],
      "metadata": {
        "id": "IW3HW9prSmWS"
      }
    }
  ]
}