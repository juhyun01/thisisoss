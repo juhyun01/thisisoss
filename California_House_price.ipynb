{
  "nbformat": 4,
  "nbformat_minor": 0,
  "metadata": {
    "colab": {
      "name": "California_House_price",
      "provenance": [],
      "authorship_tag": "ABX9TyPBHm4oRK01uMONlHXppDFf",
      "include_colab_link": true
    },
    "kernelspec": {
      "name": "python3",
      "display_name": "Python 3"
    },
    "language_info": {
      "name": "python"
    }
  },
  "cells": [
    {
      "cell_type": "markdown",
      "metadata": {
        "id": "view-in-github",
        "colab_type": "text"
      },
      "source": [
        "<a href=\"https://colab.research.google.com/github/juhyun01/thisisoss/blob/main/California_House_price.ipynb\" target=\"_parent\"><img src=\"https://colab.research.google.com/assets/colab-badge.svg\" alt=\"Open In Colab\"/></a>"
      ]
    },
    {
      "cell_type": "code",
      "execution_count": null,
      "metadata": {
        "id": "BykqfUQYSQvU"
      },
      "outputs": [],
      "source": [
        "[1] import pandas as pd\n",
        "    import uumpy as np\n",
        "    import matplotlib.pyplot as plt\n",
        "    import seaborn as sns\n",
        "\n",
        "[2] test = pd.read_csv('/content/sample_data/california_housing_test.csv')\n",
        "    train = pd.read_csv('/content/sample_data/california_housing_train.csv')\n",
        "    train.head()\n",
        "\n",
        "[3] test.head()\n",
        "\n",
        "[4] train.describe()\n",
        "\n",
        "[5] train.hist(figsize=(15,13)) , grid=False , bins=50\n",
        "    plt.show()\n",
        "\n",
        "[6] correlation = train.corr()\n",
        "\n",
        "[7] plt.figure(figsize=(10,10))\n",
        "    sns.heatmap(correlation , annot=True)\n",
        "    plt.show()"
      ]
    },
    {
      "cell_type": "markdown",
      "source": [
        "California_House_price"
      ],
      "metadata": {
        "id": "IW3HW9prSmWS"
      }
    }
  ]
}